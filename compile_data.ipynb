{
 "cells": [
  {
   "cell_type": "code",
   "execution_count": 1,
   "metadata": {},
   "outputs": [],
   "source": [
    "from pathlib import Path\n",
    "from typing import List\n",
    "import json\n",
    "from captioned_image import CaptionedImage\n",
    "\n",
    "BIRDS_PATH = Path(\"data/birds\")\n",
    "FLOWERS_PATH = Path(\"data/flowers\")"
   ]
  },
  {
   "cell_type": "code",
   "execution_count": 2,
   "metadata": {},
   "outputs": [],
   "source": [
    "birds: List[CaptionedImage] = []\n",
    "\n",
    "for class_path in (BIRDS_PATH / \"text\").glob(\"*.*\"):\n",
    "    class_id = class_path.name.split(\".\")[0]\n",
    "    class_name = class_path.name.split(\".\")[1].replace(\"_\", \" \")\n",
    "\n",
    "    for captions_path in class_path.glob(\"*.txt\"):\n",
    "        with open(captions_path) as f:\n",
    "            captions = [l.strip() for l in f.readlines()]\n",
    "\n",
    "        image_path = list(captions_path.parts)\n",
    "        image_path[2] = \"images\"\n",
    "        image_path = Path(\"/\".join(image_path)).with_suffix(\".jpg\")\n",
    "        assert image_path.exists()\n",
    "\n",
    "        birds.append(\n",
    "            CaptionedImage(\n",
    "                class_id=\"bird_\" + class_id,\n",
    "                class_name=class_name,\n",
    "                image_path=str(image_path),\n",
    "                captions=captions,\n",
    "            )\n",
    "        )\n",
    "\n",
    "with open(BIRDS_PATH / \"birds.json\", \"w\") as f:\n",
    "    json.dump([v.dict() for v in birds], f, indent=2)"
   ]
  },
  {
   "cell_type": "code",
   "execution_count": 3,
   "metadata": {},
   "outputs": [],
   "source": [
    "flowers: List[CaptionedImage] = []\n",
    "\n",
    "with open(FLOWERS_PATH / \"cat_to_name.json\") as f:\n",
    "    flower_categories = json.load(f)\n",
    "\n",
    "for class_path in (FLOWERS_PATH / \"text\").glob(\"class_*\"):\n",
    "    class_id = str(int(class_path.name.split(\"_\")[1]))\n",
    "    class_name = flower_categories[class_id]\n",
    "\n",
    "    for captions_path in class_path.glob(\"*.txt\"):\n",
    "        with open(captions_path) as f:\n",
    "            captions = [l.strip() for l in f.readlines()]\n",
    "\n",
    "        image_path = list(captions_path.parts)\n",
    "        image_path[2] = \"images\"\n",
    "        del image_path[3]\n",
    "        image_path = Path(\"/\".join(image_path)).with_suffix(\".jpg\")\n",
    "        assert image_path.exists()\n",
    "\n",
    "        flowers.append(\n",
    "            CaptionedImage(\n",
    "                class_id=\"flowr_\" + class_id,\n",
    "                class_name=class_name,\n",
    "                image_path=str(image_path),\n",
    "                captions=captions,\n",
    "            )\n",
    "        )\n",
    "\n",
    "with open(FLOWERS_PATH / \"flowers.json\", \"w\") as f:\n",
    "    json.dump([v.dict() for v in flowers], f, indent=2)"
   ]
  }
 ],
 "metadata": {
  "interpreter": {
   "hash": "dcd17ea98bde69d0bc7be23d946851db73d159955e608dce06b2915205ac2543"
  },
  "kernelspec": {
   "display_name": "Python 3.8.5 ('.env': venv)",
   "language": "python",
   "name": "python3"
  },
  "language_info": {
   "codemirror_mode": {
    "name": "ipython",
    "version": 3
   },
   "file_extension": ".py",
   "mimetype": "text/x-python",
   "name": "python",
   "nbconvert_exporter": "python",
   "pygments_lexer": "ipython3",
   "version": "3.8.5"
  },
  "orig_nbformat": 4
 },
 "nbformat": 4,
 "nbformat_minor": 2
}
